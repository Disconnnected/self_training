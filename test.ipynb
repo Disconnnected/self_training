{
 "cells": [
  {
   "cell_type": "code",
   "execution_count": 2,
   "metadata": {},
   "outputs": [
    {
     "data": {
      "text/plain": [
       "10"
      ]
     },
     "execution_count": 2,
     "metadata": {},
     "output_type": "execute_result"
    }
   ],
   "source": [
    "sample = \"Python is very easy\"\n",
    "x = sample.find(\"very\")\n",
    "x"
   ]
  },
  {
   "cell_type": "code",
   "execution_count": 3,
   "metadata": {},
   "outputs": [
    {
     "data": {
      "text/plain": [
       "'Python is better thanPHP'"
      ]
     },
     "execution_count": 3,
     "metadata": {},
     "output_type": "execute_result"
    }
   ],
   "source": [
    "string_1 = \"Python is better than\"\n",
    "string_2 = \"PHP\"\n",
    " \n",
    "\n",
    "result = string_1 + string_2\n",
    "result"
   ]
  },
  {
   "cell_type": "code",
   "execution_count": 8,
   "metadata": {},
   "outputs": [
    {
     "data": {
      "text/plain": [
       "'P <-> y <-> t <-> h <-> o <-> n'"
      ]
     },
     "execution_count": 8,
     "metadata": {},
     "output_type": "execute_result"
    }
   ],
   "source": [
    "list_1 = ['P', 'y', 't', 'h', 'o', 'n']\n",
    "\n",
    "x = \" <-> \".join(list_1)\n",
    "\n",
    "x"
   ]
  },
  {
   "cell_type": "code",
   "execution_count": 12,
   "metadata": {},
   "outputs": [
    {
     "data": {
      "text/plain": [
       "'     python'"
      ]
     },
     "execution_count": 12,
     "metadata": {},
     "output_type": "execute_result"
    }
   ],
   "source": [
    "string_1 = \"     python    \"\n",
    "string_1.rstrip()"
   ]
  },
  {
   "cell_type": "code",
   "execution_count": 13,
   "metadata": {},
   "outputs": [
    {
     "data": {
      "text/plain": [
       "'PHP is so easy'"
      ]
     },
     "execution_count": 13,
     "metadata": {},
     "output_type": "execute_result"
    }
   ],
   "source": [
    "string_1 = \"Python is so easy\"\n",
    "x = string_1.replace(\"Python\", \"PHP\")\n",
    "x"
   ]
  },
  {
   "cell_type": "code",
   "execution_count": 14,
   "metadata": {},
   "outputs": [
    {
     "name": "stdout",
     "output_type": "stream",
     "text": [
      "Em ơi anh xin lỗi em \n",
      "Em ơi anh xin lỗi em \n",
      "Em ơi anh xin lỗi em \n",
      "Em ơi anh xin lỗi em \n",
      "Em ơi anh xin lỗi em \n",
      "Em ơi anh xin lỗi em \n",
      "Em ơi anh xin lỗi em \n",
      "Em ơi anh xin lỗi em \n",
      "Em ơi anh xin lỗi em \n",
      "Em ơi anh xin lỗi em \n",
      "\n"
     ]
    }
   ],
   "source": [
    "message = \"Em ơi anh xin lỗi em \\n\"\n",
    "print(message * 10)"
   ]
  },
  {
   "cell_type": "code",
   "execution_count": 18,
   "metadata": {},
   "outputs": [
    {
     "name": "stdout",
     "output_type": "stream",
     "text": [
      "Mon Oct 23 20:11:34 2023\n"
     ]
    }
   ],
   "source": [
    "import time\n",
    "\n",
    "print(time.ctime())"
   ]
  },
  {
   "cell_type": "code",
   "execution_count": 19,
   "metadata": {},
   "outputs": [
    {
     "data": {
      "text/plain": [
       "'20'"
      ]
     },
     "execution_count": 19,
     "metadata": {},
     "output_type": "execute_result"
    }
   ],
   "source": [
    "x = 20\n",
    "str(x)"
   ]
  },
  {
   "cell_type": "markdown",
   "metadata": {},
   "source": [
    "--20. Write a query to select the employee names and the total revenue generated from the orders they have handled in each year from the Orders and OrderDetails tables.\n",
    "select OD.employee_id, OD.employee_names, sum(OD.revenue)\n",
    "from order as O\n",
    "join orderdetail as OD\n",
    "on O.order_id = OD.order_id\n",
    "group by OD.employee_id, OD.employee_names\n",
    "\n",
    "--21. Write a query to select the customer names and the total amount they have spent on orders from the Orders and OrderDetails tables.\n",
    "select CustomerKey, sum(UnitPrice)\n",
    "from FactInternetSales\n",
    "group by CustomerKey\n",
    "\n",
    "--22. Write a query to select the employee names and the total number of orders they have handled in each year from the Orders table.\n",
    "select employee_name, count(order_id)\n",
    "from orders\n",
    "group by employee_name\n",
    "\n",
    "--23. Write a query to select the product names and their average unit prices from the Products table.\n",
    "select EnglishProductName, avg(listprice)\n",
    "from DimProduct\n",
    "group by EnglishProductName\n",
    "\n",
    "--24. Write a query to select the top 5 customers with the highest average order amounts from the Orders and OrderDetails tables.\n",
    "select top 5 CustomerKey, avg(salesamount)\n",
    "from FactInternetSales\n",
    "group by CustomerKey\n",
    "order by sum(salesamount) desc\n",
    "\n",
    "--25. Write a query to select the employee names and the total number of orders they have handled for each customer from the Orders and OrderDetails tables.\n",
    "select od.employee_id, count(sale_amount)\n",
    "from orders as o\n",
    "join orderdetails as OD\n",
    "on o.order_id = OD.order_id\n",
    "group by OD.employee_id\n",
    "\n",
    "--26. Write a query to select the order dates and the total revenue generated from the orders on each day of the week from the Orders and OrderDetails tables.\n",
    "--datepart(dayofweek)\n",
    "select DATEPART(WEEKDAY, OrderDate), sum(unitprice)\n",
    "FROM FactInternetSales\n",
    "group by DATEPART(WEEKDAY, OrderDate) \n",
    "\n",
    "--27. Write a query to select the customer names and the total number of orders they have placed in each year from the Orders table.\n",
    "select CustomerKey,year(orderdate) as year,  sum(unitprice) as sum\n",
    "from FactInternetSales\n",
    "group by year(orderdate), CustomerKey\n",
    "\n",
    "\n",
    "--28. Write a query to select the employee names and the total number of orders they have handled for each product from the Orders and OrderDetails tables.\n",
    "\n",
    "\n",
    "--29. Write a query to select the product names and the total number of units sold for each product from the OrderDetails table.\n",
    "select EnglishProductName, sum(ListPrice)\n",
    "from DimProduct\n",
    "group by EnglishProductName"
   ]
  }
 ],
 "metadata": {
  "kernelspec": {
   "display_name": "Python 3",
   "language": "python",
   "name": "python3"
  },
  "language_info": {
   "codemirror_mode": {
    "name": "ipython",
    "version": 3
   },
   "file_extension": ".py",
   "mimetype": "text/x-python",
   "name": "python",
   "nbconvert_exporter": "python",
   "pygments_lexer": "ipython3",
   "version": "3.9.13"
  }
 },
 "nbformat": 4,
 "nbformat_minor": 2
}

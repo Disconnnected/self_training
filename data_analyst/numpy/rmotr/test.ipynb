{
 "cells": [
  {
   "cell_type": "code",
   "execution_count": 8,
   "metadata": {},
   "outputs": [],
   "source": [
    "import numpy as np\n",
    "import pandas as pd\n",
    "import matplotlib.pyplot as plt\n",
    "import sys"
   ]
  },
  {
   "cell_type": "code",
   "execution_count": 2,
   "metadata": {},
   "outputs": [
    {
     "data": {
      "text/html": [
       "<div>\n",
       "<style scoped>\n",
       "    .dataframe tbody tr th:only-of-type {\n",
       "        vertical-align: middle;\n",
       "    }\n",
       "\n",
       "    .dataframe tbody tr th {\n",
       "        vertical-align: top;\n",
       "    }\n",
       "\n",
       "    .dataframe thead th {\n",
       "        text-align: right;\n",
       "    }\n",
       "</style>\n",
       "<table border=\"1\" class=\"dataframe\">\n",
       "  <thead>\n",
       "    <tr style=\"text-align: right;\">\n",
       "      <th></th>\n",
       "      <th>ID</th>\n",
       "      <th>Full Name</th>\n",
       "      <th>Sex</th>\n",
       "      <th>Mark</th>\n",
       "      <th>Note</th>\n",
       "    </tr>\n",
       "  </thead>\n",
       "  <tbody>\n",
       "    <tr>\n",
       "      <th>0</th>\n",
       "      <td>Nestech_001</td>\n",
       "      <td>Nguyen Phu Trong</td>\n",
       "      <td>M</td>\n",
       "      <td>10</td>\n",
       "      <td>Lop Truong</td>\n",
       "    </tr>\n",
       "    <tr>\n",
       "      <th>1</th>\n",
       "      <td>Nestech_002</td>\n",
       "      <td>Vo Van Thuong</td>\n",
       "      <td>M</td>\n",
       "      <td>9</td>\n",
       "      <td>Pho Lop Truong</td>\n",
       "    </tr>\n",
       "    <tr>\n",
       "      <th>2</th>\n",
       "      <td>Nestech_003</td>\n",
       "      <td>Nguyen Hoang Kieu Trinh</td>\n",
       "      <td>F</td>\n",
       "      <td>4</td>\n",
       "      <td>NaN</td>\n",
       "    </tr>\n",
       "    <tr>\n",
       "      <th>3</th>\n",
       "      <td>Nestech_004</td>\n",
       "      <td>Viktor Nguyen</td>\n",
       "      <td>M</td>\n",
       "      <td>7</td>\n",
       "      <td>NaN</td>\n",
       "    </tr>\n",
       "    <tr>\n",
       "      <th>4</th>\n",
       "      <td>Nestech_005</td>\n",
       "      <td>Clint Nguyen</td>\n",
       "      <td>M</td>\n",
       "      <td>7</td>\n",
       "      <td>NaN</td>\n",
       "    </tr>\n",
       "    <tr>\n",
       "      <th>5</th>\n",
       "      <td>Nestech_006</td>\n",
       "      <td>Nguyen Van Toan</td>\n",
       "      <td>M</td>\n",
       "      <td>9</td>\n",
       "      <td>NaN</td>\n",
       "    </tr>\n",
       "    <tr>\n",
       "      <th>6</th>\n",
       "      <td>Nestech_007</td>\n",
       "      <td>Kha Kim Bao Han</td>\n",
       "      <td>F</td>\n",
       "      <td>10</td>\n",
       "      <td>Ex</td>\n",
       "    </tr>\n",
       "    <tr>\n",
       "      <th>7</th>\n",
       "      <td>Nestech_008</td>\n",
       "      <td>Pham Le Tram Anh</td>\n",
       "      <td>F</td>\n",
       "      <td>5</td>\n",
       "      <td>Ex</td>\n",
       "    </tr>\n",
       "    <tr>\n",
       "      <th>8</th>\n",
       "      <td>Nestech_009</td>\n",
       "      <td>Ba Hoang Kim Thinh</td>\n",
       "      <td>F</td>\n",
       "      <td>3</td>\n",
       "      <td>Ex</td>\n",
       "    </tr>\n",
       "    <tr>\n",
       "      <th>9</th>\n",
       "      <td>Nestech_010</td>\n",
       "      <td>Giap Phi Hoang</td>\n",
       "      <td>M</td>\n",
       "      <td>6</td>\n",
       "      <td>Y Thuc Kem</td>\n",
       "    </tr>\n",
       "  </tbody>\n",
       "</table>\n",
       "</div>"
      ],
      "text/plain": [
       "            ID                Full Name Sex  Mark            Note\n",
       "0  Nestech_001         Nguyen Phu Trong   M    10      Lop Truong\n",
       "1  Nestech_002            Vo Van Thuong   M     9  Pho Lop Truong\n",
       "2  Nestech_003  Nguyen Hoang Kieu Trinh   F     4             NaN\n",
       "3  Nestech_004            Viktor Nguyen   M     7             NaN\n",
       "4  Nestech_005             Clint Nguyen   M     7             NaN\n",
       "5  Nestech_006          Nguyen Van Toan   M     9             NaN\n",
       "6  Nestech_007          Kha Kim Bao Han   F    10              Ex\n",
       "7  Nestech_008         Pham Le Tram Anh   F     5              Ex\n",
       "8  Nestech_009       Ba Hoang Kim Thinh   F     3              Ex\n",
       "9  Nestech_010           Giap Phi Hoang   M     6      Y Thuc Kem"
      ]
     },
     "execution_count": 2,
     "metadata": {},
     "output_type": "execute_result"
    }
   ],
   "source": [
    "df = pd.read_csv(\"resource\\simple_student.csv\")\n",
    "df"
   ]
  },
  {
   "cell_type": "code",
   "execution_count": 4,
   "metadata": {},
   "outputs": [
    {
     "data": {
      "text/plain": [
       "<Axes: >"
      ]
     },
     "execution_count": 4,
     "metadata": {},
     "output_type": "execute_result"
    },
    {
     "data": {
      "image/png": "[encoded data removed]",
      "text/plain": [
       "<Figure size 640x480 with 1 Axes>"
      ]
     },
     "metadata": {},
     "output_type": "display_data"
    }
   ],
   "source": [
    "df.plot()"
   ]
  },
  {
   "cell_type": "code",
   "execution_count": null,
   "metadata": {},
   "outputs": [],
   "source": []
  },
  {
   "cell_type": "code",
   "execution_count": null,
   "metadata": {},
   "outputs": [],
   "source": []
  }
 ],
 "metadata": {
  "kernelspec": {
   "display_name": "Python 3",
   "language": "python",
   "name": "python3"
  },
  "language_info": {
   "codemirror_mode": {
    "name": "ipython",
    "version": 3
   },
   "file_extension": ".py",
   "mimetype": "text/x-python",
   "name": "python",
   "nbconvert_exporter": "python",
   "pygments_lexer": "ipython3",
   "version": "3.11.2"
  },
  "orig_nbformat": 4
 },
 "nbformat": 4,
 "nbformat_minor": 2
}

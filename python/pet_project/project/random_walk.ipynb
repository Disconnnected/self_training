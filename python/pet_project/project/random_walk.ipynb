{
 "cells": [
  {
   "cell_type": "code",
   "execution_count": 118,
   "metadata": {},
   "outputs": [
    {
     "data": {
      "text/plain": [
       "'\\nMột người đi trên đường dựa vào quy tắc như sau: Nếu tung đồng xu ra mặt ngửa, anh ta sẽ tiến 1  bước. Nếu tung đồng xu ra mặt sấp, anh ta sẽ lùi 1 bước. Giả sử xác suất ra mặt sấp và mặt ngửa là như nhau.  Mỗi lần chơi anh ta được tung đồng xu 100 lần. Tính xác suất anh ta tiến được 30 bước.\\n'"
      ]
     },
     "execution_count": 118,
     "metadata": {},
     "output_type": "execute_result"
    }
   ],
   "source": [
    "\"\"\"\n",
    "Một người đi trên đường dựa vào quy tắc như sau: Nếu tung đồng xu ra mặt ngửa, anh ta sẽ tiến 1  bước. Nếu tung đồng xu ra mặt sấp, anh ta sẽ lùi 1 bước. Giả sử xác suất ra mặt sấp và mặt ngửa là như nhau.  Mỗi lần chơi anh ta được tung đồng xu 100 lần. Tính xác suất anh ta tiến được 30 bước.\n",
    "\"\"\""
   ]
  },
  {
   "cell_type": "code",
   "execution_count": 119,
   "metadata": {},
   "outputs": [],
   "source": [
    "import numpy as np\n",
    "import matplotlib.pyplot as plt\n",
    "import pandas as pd\n",
    "import random"
   ]
  },
  {
   "cell_type": "code",
   "execution_count": 120,
   "metadata": {},
   "outputs": [],
   "source": [
    "directions = [\"UP\", \"DOWN\"]\n",
    "step_allowed = 10000\n",
    "position_over = 30\n",
    "number_of_time_roll = 1000"
   ]
  },
  {
   "cell_type": "code",
   "execution_count": 121,
   "metadata": {},
   "outputs": [],
   "source": [
    "def random_walk(step_allowed):\n",
    "    positions = []\n",
    "    timepoints = np.arange(step_allowed )\n",
    "    y = 0  \n",
    "    for i in range(1, step_allowed + 1):\n",
    "        step = random.choice(directions)\n",
    "        if step == \"UP\":\n",
    "            y += 1\n",
    "        elif step == \"DOWN\":\n",
    "            y -= 1\n",
    "        positions.append(y)\n",
    "    return timepoints, positions"
   ]
  },
  {
   "cell_type": "code",
   "execution_count": 122,
   "metadata": {},
   "outputs": [],
   "source": [
    "# timepoints, positions = random_walk(10000)\n",
    "# plt.plot(timepoints, positions)"
   ]
  },
  {
   "cell_type": "code",
   "execution_count": 123,
   "metadata": {},
   "outputs": [],
   "source": [
    "random_walk_dataset = []\n",
    "def random_walk_percent(n):\n",
    "    for i in range(n):\n",
    "        timepoints, positions = random_walk(step_allowed)\n",
    "        random_walk_dataset.append(positions)\n",
    "    return random_walk_dataset"
   ]
  },
  {
   "cell_type": "code",
   "execution_count": 124,
   "metadata": {},
   "outputs": [],
   "source": [
    "dataset = random_walk_percent(number_of_time_roll)\n",
    "# dataset"
   ]
  },
  {
   "cell_type": "code",
   "execution_count": 125,
   "metadata": {},
   "outputs": [
    {
     "data": {
      "text/plain": [
       "37.9"
      ]
     },
     "execution_count": 125,
     "metadata": {},
     "output_type": "execute_result"
    }
   ],
   "source": [
    "df = pd.DataFrame(dataset)\n",
    "# df[99].plot()\n",
    "len(df)\n",
    "over_30 = df[df[step_allowed-1] >= position_over]\n",
    "len(over_30) / len(df) * 100"
   ]
  },
  {
   "cell_type": "code",
   "execution_count": null,
   "metadata": {},
   "outputs": [],
   "source": []
  },
  {
   "cell_type": "code",
   "execution_count": null,
   "metadata": {},
   "outputs": [],
   "source": []
  },
  {
   "cell_type": "code",
   "execution_count": null,
   "metadata": {},
   "outputs": [],
   "source": []
  }
 ],
 "metadata": {
  "kernelspec": {
   "display_name": "Python 3",
   "language": "python",
   "name": "python3"
  },
  "language_info": {
   "codemirror_mode": {
    "name": "ipython",
    "version": 3
   },
   "file_extension": ".py",
   "mimetype": "text/x-python",
   "name": "python",
   "nbconvert_exporter": "python",
   "pygments_lexer": "ipython3",
   "version": "3.11.2"
  },
  "orig_nbformat": 4
 },
 "nbformat": 4,
 "nbformat_minor": 2
}
